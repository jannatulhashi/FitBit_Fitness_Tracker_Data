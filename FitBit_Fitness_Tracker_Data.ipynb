{
 "cells": [
  {
   "cell_type": "code",
   "execution_count": 17,
   "id": "28e664c8",
   "metadata": {},
   "outputs": [],
   "source": [
    "# Dependencies and Setup\n",
    "import pandas as pd\n",
    "from pathlib import Path\n",
    "import numpy as np"
   ]
  },
  {
   "cell_type": "code",
   "execution_count": 18,
   "id": "7a245ca9",
   "metadata": {},
   "outputs": [],
   "source": [
    "# Load in file\n",
    "# Store filepath in a variable\n",
    "\n",
    "dailyActivity_merged_csv = Path(\"Resources/dailyActivity_merged.csv\")\n",
    "\n",
    "dailyCalories_merged_csv = Path(\"Resources/dailyCalories_merged.csv\")\n",
    "\n",
    "dailyIntensities_merged_csv = Path(\"Resources/dailyIntensities_merged.csv\")\n",
    "\n",
    "heartrate_seconds_merged_csv = Path(\"Resources/heartrate_seconds_merged.csv\")\n",
    "\n",
    "sleepDay_merged_csv = Path(\"Resources/sleepDay_merged.csv\")\n",
    "\n",
    "weightLogInfo_merged_csv = Path (\"Resources/weightLogInfo_merged.csv\")\n",
    "\n",
    "dailySteps_merged_csv = Path(\"Resources/dailySteps_merged.csv\")"
   ]
  },
  {
   "cell_type": "code",
   "execution_count": 19,
   "id": "6eafd107",
   "metadata": {},
   "outputs": [],
   "source": [
    "# Read titles and credits data file and store into Pandas DataFrames\n",
    "\n",
    "dailyActivity_merged_df = pd.read_csv(dailyActivity_merged_csv)\n",
    "\n",
    "dailyCalories_merged_df = pd.read_csv(dailyCalories_merged_csv)\n",
    "\n",
    "dailyIntensities_merged_df = pd.read_csv(dailyIntensities_merged_csv)\n",
    "\n",
    "heartrate_seconds_merged_df = pd.read_csv(heartrate_seconds_merged_csv)\n",
    "\n",
    "sleepDay_merged_df = pd.read_csv(sleepDay_merged_csv)\n",
    "\n",
    "weightLogInfo_merged_df = pd.read_csv(weightLogInfo_merged_csv)\n",
    "\n",
    "dailySteps_merged_df = pd.read_csv(dailySteps_merged_csv)"
   ]
  },
  {
   "cell_type": "code",
   "execution_count": 13,
   "id": "6fd9a14d",
   "metadata": {},
   "outputs": [
    {
     "data": {
      "text/html": [
       "<div>\n",
       "<style scoped>\n",
       "    .dataframe tbody tr th:only-of-type {\n",
       "        vertical-align: middle;\n",
       "    }\n",
       "\n",
       "    .dataframe tbody tr th {\n",
       "        vertical-align: top;\n",
       "    }\n",
       "\n",
       "    .dataframe thead th {\n",
       "        text-align: right;\n",
       "    }\n",
       "</style>\n",
       "<table border=\"1\" class=\"dataframe\">\n",
       "  <thead>\n",
       "    <tr style=\"text-align: right;\">\n",
       "      <th></th>\n",
       "      <th>Id</th>\n",
       "      <th>ActivityDate</th>\n",
       "      <th>TotalSteps</th>\n",
       "      <th>TotalDistance</th>\n",
       "      <th>TrackerDistance</th>\n",
       "      <th>LoggedActivitiesDistance</th>\n",
       "      <th>VeryActiveDistance</th>\n",
       "      <th>ModeratelyActiveDistance</th>\n",
       "      <th>LightActiveDistance</th>\n",
       "      <th>SedentaryActiveDistance</th>\n",
       "      <th>VeryActiveMinutes</th>\n",
       "      <th>FairlyActiveMinutes</th>\n",
       "      <th>LightlyActiveMinutes</th>\n",
       "      <th>SedentaryMinutes</th>\n",
       "      <th>Calories</th>\n",
       "    </tr>\n",
       "  </thead>\n",
       "  <tbody>\n",
       "    <tr>\n",
       "      <th>0</th>\n",
       "      <td>1503960366</td>\n",
       "      <td>4/12/2016</td>\n",
       "      <td>13162</td>\n",
       "      <td>8.500000</td>\n",
       "      <td>8.500000</td>\n",
       "      <td>0.0</td>\n",
       "      <td>1.88</td>\n",
       "      <td>0.55</td>\n",
       "      <td>6.06</td>\n",
       "      <td>0.00</td>\n",
       "      <td>25</td>\n",
       "      <td>13</td>\n",
       "      <td>328</td>\n",
       "      <td>728</td>\n",
       "      <td>1985</td>\n",
       "    </tr>\n",
       "    <tr>\n",
       "      <th>1</th>\n",
       "      <td>1503960366</td>\n",
       "      <td>4/13/2016</td>\n",
       "      <td>10735</td>\n",
       "      <td>6.970000</td>\n",
       "      <td>6.970000</td>\n",
       "      <td>0.0</td>\n",
       "      <td>1.57</td>\n",
       "      <td>0.69</td>\n",
       "      <td>4.71</td>\n",
       "      <td>0.00</td>\n",
       "      <td>21</td>\n",
       "      <td>19</td>\n",
       "      <td>217</td>\n",
       "      <td>776</td>\n",
       "      <td>1797</td>\n",
       "    </tr>\n",
       "    <tr>\n",
       "      <th>2</th>\n",
       "      <td>1503960366</td>\n",
       "      <td>4/14/2016</td>\n",
       "      <td>10460</td>\n",
       "      <td>6.740000</td>\n",
       "      <td>6.740000</td>\n",
       "      <td>0.0</td>\n",
       "      <td>2.44</td>\n",
       "      <td>0.40</td>\n",
       "      <td>3.91</td>\n",
       "      <td>0.00</td>\n",
       "      <td>30</td>\n",
       "      <td>11</td>\n",
       "      <td>181</td>\n",
       "      <td>1218</td>\n",
       "      <td>1776</td>\n",
       "    </tr>\n",
       "    <tr>\n",
       "      <th>3</th>\n",
       "      <td>1503960366</td>\n",
       "      <td>4/15/2016</td>\n",
       "      <td>9762</td>\n",
       "      <td>6.280000</td>\n",
       "      <td>6.280000</td>\n",
       "      <td>0.0</td>\n",
       "      <td>2.14</td>\n",
       "      <td>1.26</td>\n",
       "      <td>2.83</td>\n",
       "      <td>0.00</td>\n",
       "      <td>29</td>\n",
       "      <td>34</td>\n",
       "      <td>209</td>\n",
       "      <td>726</td>\n",
       "      <td>1745</td>\n",
       "    </tr>\n",
       "    <tr>\n",
       "      <th>4</th>\n",
       "      <td>1503960366</td>\n",
       "      <td>4/16/2016</td>\n",
       "      <td>12669</td>\n",
       "      <td>8.160000</td>\n",
       "      <td>8.160000</td>\n",
       "      <td>0.0</td>\n",
       "      <td>2.71</td>\n",
       "      <td>0.41</td>\n",
       "      <td>5.04</td>\n",
       "      <td>0.00</td>\n",
       "      <td>36</td>\n",
       "      <td>10</td>\n",
       "      <td>221</td>\n",
       "      <td>773</td>\n",
       "      <td>1863</td>\n",
       "    </tr>\n",
       "    <tr>\n",
       "      <th>...</th>\n",
       "      <td>...</td>\n",
       "      <td>...</td>\n",
       "      <td>...</td>\n",
       "      <td>...</td>\n",
       "      <td>...</td>\n",
       "      <td>...</td>\n",
       "      <td>...</td>\n",
       "      <td>...</td>\n",
       "      <td>...</td>\n",
       "      <td>...</td>\n",
       "      <td>...</td>\n",
       "      <td>...</td>\n",
       "      <td>...</td>\n",
       "      <td>...</td>\n",
       "      <td>...</td>\n",
       "    </tr>\n",
       "    <tr>\n",
       "      <th>935</th>\n",
       "      <td>8877689391</td>\n",
       "      <td>5/8/2016</td>\n",
       "      <td>10686</td>\n",
       "      <td>8.110000</td>\n",
       "      <td>8.110000</td>\n",
       "      <td>0.0</td>\n",
       "      <td>1.08</td>\n",
       "      <td>0.20</td>\n",
       "      <td>6.80</td>\n",
       "      <td>0.00</td>\n",
       "      <td>17</td>\n",
       "      <td>4</td>\n",
       "      <td>245</td>\n",
       "      <td>1174</td>\n",
       "      <td>2847</td>\n",
       "    </tr>\n",
       "    <tr>\n",
       "      <th>936</th>\n",
       "      <td>8877689391</td>\n",
       "      <td>5/9/2016</td>\n",
       "      <td>20226</td>\n",
       "      <td>18.250000</td>\n",
       "      <td>18.250000</td>\n",
       "      <td>0.0</td>\n",
       "      <td>11.10</td>\n",
       "      <td>0.80</td>\n",
       "      <td>6.24</td>\n",
       "      <td>0.05</td>\n",
       "      <td>73</td>\n",
       "      <td>19</td>\n",
       "      <td>217</td>\n",
       "      <td>1131</td>\n",
       "      <td>3710</td>\n",
       "    </tr>\n",
       "    <tr>\n",
       "      <th>937</th>\n",
       "      <td>8877689391</td>\n",
       "      <td>5/10/2016</td>\n",
       "      <td>10733</td>\n",
       "      <td>8.150000</td>\n",
       "      <td>8.150000</td>\n",
       "      <td>0.0</td>\n",
       "      <td>1.35</td>\n",
       "      <td>0.46</td>\n",
       "      <td>6.28</td>\n",
       "      <td>0.00</td>\n",
       "      <td>18</td>\n",
       "      <td>11</td>\n",
       "      <td>224</td>\n",
       "      <td>1187</td>\n",
       "      <td>2832</td>\n",
       "    </tr>\n",
       "    <tr>\n",
       "      <th>938</th>\n",
       "      <td>8877689391</td>\n",
       "      <td>5/11/2016</td>\n",
       "      <td>21420</td>\n",
       "      <td>19.559999</td>\n",
       "      <td>19.559999</td>\n",
       "      <td>0.0</td>\n",
       "      <td>13.22</td>\n",
       "      <td>0.41</td>\n",
       "      <td>5.89</td>\n",
       "      <td>0.00</td>\n",
       "      <td>88</td>\n",
       "      <td>12</td>\n",
       "      <td>213</td>\n",
       "      <td>1127</td>\n",
       "      <td>3832</td>\n",
       "    </tr>\n",
       "    <tr>\n",
       "      <th>939</th>\n",
       "      <td>8877689391</td>\n",
       "      <td>5/12/2016</td>\n",
       "      <td>8064</td>\n",
       "      <td>6.120000</td>\n",
       "      <td>6.120000</td>\n",
       "      <td>0.0</td>\n",
       "      <td>1.82</td>\n",
       "      <td>0.04</td>\n",
       "      <td>4.25</td>\n",
       "      <td>0.00</td>\n",
       "      <td>23</td>\n",
       "      <td>1</td>\n",
       "      <td>137</td>\n",
       "      <td>770</td>\n",
       "      <td>1849</td>\n",
       "    </tr>\n",
       "  </tbody>\n",
       "</table>\n",
       "<p>940 rows × 15 columns</p>\n",
       "</div>"
      ],
      "text/plain": [
       "             Id ActivityDate  TotalSteps  TotalDistance  TrackerDistance  \\\n",
       "0    1503960366    4/12/2016       13162       8.500000         8.500000   \n",
       "1    1503960366    4/13/2016       10735       6.970000         6.970000   \n",
       "2    1503960366    4/14/2016       10460       6.740000         6.740000   \n",
       "3    1503960366    4/15/2016        9762       6.280000         6.280000   \n",
       "4    1503960366    4/16/2016       12669       8.160000         8.160000   \n",
       "..          ...          ...         ...            ...              ...   \n",
       "935  8877689391     5/8/2016       10686       8.110000         8.110000   \n",
       "936  8877689391     5/9/2016       20226      18.250000        18.250000   \n",
       "937  8877689391    5/10/2016       10733       8.150000         8.150000   \n",
       "938  8877689391    5/11/2016       21420      19.559999        19.559999   \n",
       "939  8877689391    5/12/2016        8064       6.120000         6.120000   \n",
       "\n",
       "     LoggedActivitiesDistance  VeryActiveDistance  ModeratelyActiveDistance  \\\n",
       "0                         0.0                1.88                      0.55   \n",
       "1                         0.0                1.57                      0.69   \n",
       "2                         0.0                2.44                      0.40   \n",
       "3                         0.0                2.14                      1.26   \n",
       "4                         0.0                2.71                      0.41   \n",
       "..                        ...                 ...                       ...   \n",
       "935                       0.0                1.08                      0.20   \n",
       "936                       0.0               11.10                      0.80   \n",
       "937                       0.0                1.35                      0.46   \n",
       "938                       0.0               13.22                      0.41   \n",
       "939                       0.0                1.82                      0.04   \n",
       "\n",
       "     LightActiveDistance  SedentaryActiveDistance  VeryActiveMinutes  \\\n",
       "0                   6.06                     0.00                 25   \n",
       "1                   4.71                     0.00                 21   \n",
       "2                   3.91                     0.00                 30   \n",
       "3                   2.83                     0.00                 29   \n",
       "4                   5.04                     0.00                 36   \n",
       "..                   ...                      ...                ...   \n",
       "935                 6.80                     0.00                 17   \n",
       "936                 6.24                     0.05                 73   \n",
       "937                 6.28                     0.00                 18   \n",
       "938                 5.89                     0.00                 88   \n",
       "939                 4.25                     0.00                 23   \n",
       "\n",
       "     FairlyActiveMinutes  LightlyActiveMinutes  SedentaryMinutes  Calories  \n",
       "0                     13                   328               728      1985  \n",
       "1                     19                   217               776      1797  \n",
       "2                     11                   181              1218      1776  \n",
       "3                     34                   209               726      1745  \n",
       "4                     10                   221               773      1863  \n",
       "..                   ...                   ...               ...       ...  \n",
       "935                    4                   245              1174      2847  \n",
       "936                   19                   217              1131      3710  \n",
       "937                   11                   224              1187      2832  \n",
       "938                   12                   213              1127      3832  \n",
       "939                    1                   137               770      1849  \n",
       "\n",
       "[940 rows x 15 columns]"
      ]
     },
     "execution_count": 13,
     "metadata": {},
     "output_type": "execute_result"
    }
   ],
   "source": [
    "# Display the 'dailyActivity_merged' DataFrame\n",
    "\n",
    "dailyActivity_merged_df"
   ]
  },
  {
   "cell_type": "code",
   "execution_count": 14,
   "id": "a5e69798",
   "metadata": {},
   "outputs": [
    {
     "data": {
      "text/plain": [
       "Id                          0\n",
       "ActivityDate                0\n",
       "TotalSteps                  0\n",
       "TotalDistance               0\n",
       "TrackerDistance             0\n",
       "LoggedActivitiesDistance    0\n",
       "VeryActiveDistance          0\n",
       "ModeratelyActiveDistance    0\n",
       "LightActiveDistance         0\n",
       "SedentaryActiveDistance     0\n",
       "VeryActiveMinutes           0\n",
       "FairlyActiveMinutes         0\n",
       "LightlyActiveMinutes        0\n",
       "SedentaryMinutes            0\n",
       "Calories                    0\n",
       "dtype: int64"
      ]
     },
     "execution_count": 14,
     "metadata": {},
     "output_type": "execute_result"
    }
   ],
   "source": [
    "# Count the number of missing values in each column\n",
    "\n",
    "dailyActivity_merged_df.isnull().sum()"
   ]
  },
  {
   "cell_type": "code",
   "execution_count": 15,
   "id": "c8eb8c4a",
   "metadata": {},
   "outputs": [
    {
     "name": "stdout",
     "output_type": "stream",
     "text": [
      "There are no duplicates in the DataFrame.\n"
     ]
    }
   ],
   "source": [
    "# Find duplicate values\n",
    "duplicate_values = dailyActivity_merged_df[dailyActivity_merged_df.duplicated()]\n",
    "\n",
    "# Check if there are any duplicates\n",
    "if duplicate_values.empty:\n",
    "  print(\"There are no duplicates in the DataFrame.\")\n",
    "else:\n",
    "  print(\"There are duplicates in the DataFrame\")"
   ]
  },
  {
   "cell_type": "code",
   "execution_count": 16,
   "id": "fd21f464",
   "metadata": {},
   "outputs": [
    {
     "data": {
      "text/plain": [
       "Id                            int64\n",
       "ActivityDate                 object\n",
       "TotalSteps                    int64\n",
       "TotalDistance               float64\n",
       "TrackerDistance             float64\n",
       "LoggedActivitiesDistance    float64\n",
       "VeryActiveDistance          float64\n",
       "ModeratelyActiveDistance    float64\n",
       "LightActiveDistance         float64\n",
       "SedentaryActiveDistance     float64\n",
       "VeryActiveMinutes             int64\n",
       "FairlyActiveMinutes           int64\n",
       "LightlyActiveMinutes          int64\n",
       "SedentaryMinutes              int64\n",
       "Calories                      int64\n",
       "dtype: object"
      ]
     },
     "execution_count": 16,
     "metadata": {},
     "output_type": "execute_result"
    }
   ],
   "source": [
    "# Display data types of each column in the DataFrame\n",
    "\n",
    "dailyActivity_merged_df.dtypes"
   ]
  },
  {
   "cell_type": "code",
   "execution_count": 17,
   "id": "acc84a1d",
   "metadata": {},
   "outputs": [],
   "source": [
    "# Convert the 'ActivityDate' column to datetime format\n",
    "\n",
    "dailyActivity_merged_df['ActivityDate']= pd.to_datetime(dailyActivity_merged_df['ActivityDate'], errors = 'coerce')\n"
   ]
  },
  {
   "cell_type": "code",
   "execution_count": 18,
   "id": "d8ca704b",
   "metadata": {},
   "outputs": [
    {
     "data": {
      "text/plain": [
       "Id                                   int64\n",
       "ActivityDate                datetime64[ns]\n",
       "TotalSteps                           int64\n",
       "TotalDistance                      float64\n",
       "TrackerDistance                    float64\n",
       "LoggedActivitiesDistance           float64\n",
       "VeryActiveDistance                 float64\n",
       "ModeratelyActiveDistance           float64\n",
       "LightActiveDistance                float64\n",
       "SedentaryActiveDistance            float64\n",
       "VeryActiveMinutes                    int64\n",
       "FairlyActiveMinutes                  int64\n",
       "LightlyActiveMinutes                 int64\n",
       "SedentaryMinutes                     int64\n",
       "Calories                             int64\n",
       "dtype: object"
      ]
     },
     "execution_count": 18,
     "metadata": {},
     "output_type": "execute_result"
    }
   ],
   "source": [
    "# Check the data types\n",
    "\n",
    "dailyActivity_merged_df.dtypes"
   ]
  },
  {
   "cell_type": "code",
   "execution_count": 74,
   "id": "633432e4",
   "metadata": {},
   "outputs": [],
   "source": [
    "# Save as CSV file\n",
    "\n",
    "dailyActivity_merged_df.to_csv('daily_activity_merged.csv', index=False)"
   ]
  },
  {
   "cell_type": "code",
   "execution_count": 20,
   "id": "f21a2d45",
   "metadata": {},
   "outputs": [
    {
     "data": {
      "text/html": [
       "<div>\n",
       "<style scoped>\n",
       "    .dataframe tbody tr th:only-of-type {\n",
       "        vertical-align: middle;\n",
       "    }\n",
       "\n",
       "    .dataframe tbody tr th {\n",
       "        vertical-align: top;\n",
       "    }\n",
       "\n",
       "    .dataframe thead th {\n",
       "        text-align: right;\n",
       "    }\n",
       "</style>\n",
       "<table border=\"1\" class=\"dataframe\">\n",
       "  <thead>\n",
       "    <tr style=\"text-align: right;\">\n",
       "      <th></th>\n",
       "      <th>Id</th>\n",
       "      <th>ActivityDay</th>\n",
       "      <th>Calories</th>\n",
       "    </tr>\n",
       "  </thead>\n",
       "  <tbody>\n",
       "    <tr>\n",
       "      <th>0</th>\n",
       "      <td>1503960366</td>\n",
       "      <td>4/12/2016</td>\n",
       "      <td>1985</td>\n",
       "    </tr>\n",
       "    <tr>\n",
       "      <th>1</th>\n",
       "      <td>1503960366</td>\n",
       "      <td>4/13/2016</td>\n",
       "      <td>1797</td>\n",
       "    </tr>\n",
       "    <tr>\n",
       "      <th>2</th>\n",
       "      <td>1503960366</td>\n",
       "      <td>4/14/2016</td>\n",
       "      <td>1776</td>\n",
       "    </tr>\n",
       "    <tr>\n",
       "      <th>3</th>\n",
       "      <td>1503960366</td>\n",
       "      <td>4/15/2016</td>\n",
       "      <td>1745</td>\n",
       "    </tr>\n",
       "    <tr>\n",
       "      <th>4</th>\n",
       "      <td>1503960366</td>\n",
       "      <td>4/16/2016</td>\n",
       "      <td>1863</td>\n",
       "    </tr>\n",
       "    <tr>\n",
       "      <th>...</th>\n",
       "      <td>...</td>\n",
       "      <td>...</td>\n",
       "      <td>...</td>\n",
       "    </tr>\n",
       "    <tr>\n",
       "      <th>935</th>\n",
       "      <td>8877689391</td>\n",
       "      <td>5/8/2016</td>\n",
       "      <td>2847</td>\n",
       "    </tr>\n",
       "    <tr>\n",
       "      <th>936</th>\n",
       "      <td>8877689391</td>\n",
       "      <td>5/9/2016</td>\n",
       "      <td>3710</td>\n",
       "    </tr>\n",
       "    <tr>\n",
       "      <th>937</th>\n",
       "      <td>8877689391</td>\n",
       "      <td>5/10/2016</td>\n",
       "      <td>2832</td>\n",
       "    </tr>\n",
       "    <tr>\n",
       "      <th>938</th>\n",
       "      <td>8877689391</td>\n",
       "      <td>5/11/2016</td>\n",
       "      <td>3832</td>\n",
       "    </tr>\n",
       "    <tr>\n",
       "      <th>939</th>\n",
       "      <td>8877689391</td>\n",
       "      <td>5/12/2016</td>\n",
       "      <td>1849</td>\n",
       "    </tr>\n",
       "  </tbody>\n",
       "</table>\n",
       "<p>940 rows × 3 columns</p>\n",
       "</div>"
      ],
      "text/plain": [
       "             Id ActivityDay  Calories\n",
       "0    1503960366   4/12/2016      1985\n",
       "1    1503960366   4/13/2016      1797\n",
       "2    1503960366   4/14/2016      1776\n",
       "3    1503960366   4/15/2016      1745\n",
       "4    1503960366   4/16/2016      1863\n",
       "..          ...         ...       ...\n",
       "935  8877689391    5/8/2016      2847\n",
       "936  8877689391    5/9/2016      3710\n",
       "937  8877689391   5/10/2016      2832\n",
       "938  8877689391   5/11/2016      3832\n",
       "939  8877689391   5/12/2016      1849\n",
       "\n",
       "[940 rows x 3 columns]"
      ]
     },
     "execution_count": 20,
     "metadata": {},
     "output_type": "execute_result"
    }
   ],
   "source": [
    "# Display the 'dailyCalories_merged' DataFrame\n",
    "\n",
    "dailyCalories_merged_df"
   ]
  },
  {
   "cell_type": "code",
   "execution_count": 21,
   "id": "c807e304",
   "metadata": {},
   "outputs": [
    {
     "data": {
      "text/plain": [
       "Id             0\n",
       "ActivityDay    0\n",
       "Calories       0\n",
       "dtype: int64"
      ]
     },
     "execution_count": 21,
     "metadata": {},
     "output_type": "execute_result"
    }
   ],
   "source": [
    "# Count the number of missing values in each column\n",
    "\n",
    "dailyCalories_merged_df.isnull().sum()"
   ]
  },
  {
   "cell_type": "code",
   "execution_count": 22,
   "id": "b8336b54",
   "metadata": {},
   "outputs": [
    {
     "name": "stdout",
     "output_type": "stream",
     "text": [
      "There are no duplicates in the DataFrame\n"
     ]
    }
   ],
   "source": [
    "# Find duplicate values\n",
    "duplicate_values = dailyCalories_merged_df[dailyCalories_merged_df.duplicated()]\n",
    "\n",
    "# Check if there are any duplicates\n",
    "if duplicate_values.empty:\n",
    "    print(\"There are no duplicates in the DataFrame\")\n",
    "else:\n",
    "    print(\"There are duplicates in the DataFrame\")"
   ]
  },
  {
   "cell_type": "code",
   "execution_count": 23,
   "id": "b1a589a8",
   "metadata": {},
   "outputs": [
    {
     "data": {
      "text/plain": [
       "Id              int64\n",
       "ActivityDay    object\n",
       "Calories        int64\n",
       "dtype: object"
      ]
     },
     "execution_count": 23,
     "metadata": {},
     "output_type": "execute_result"
    }
   ],
   "source": [
    "# Display data types of each column in the DataFrame\n",
    "\n",
    "dailyCalories_merged_df.dtypes"
   ]
  },
  {
   "cell_type": "code",
   "execution_count": 24,
   "id": "fcde3a69",
   "metadata": {},
   "outputs": [],
   "source": [
    "# Convert the 'ActivityDay' column to datetime format\n",
    "\n",
    "dailyCalories_merged_df['ActivityDay'] = pd.to_datetime(dailyCalories_merged_df['ActivityDay'], errors = 'coerce')"
   ]
  },
  {
   "cell_type": "code",
   "execution_count": 25,
   "id": "51e7ab1d",
   "metadata": {},
   "outputs": [
    {
     "data": {
      "text/plain": [
       "Id                      int64\n",
       "ActivityDay    datetime64[ns]\n",
       "Calories                int64\n",
       "dtype: object"
      ]
     },
     "execution_count": 25,
     "metadata": {},
     "output_type": "execute_result"
    }
   ],
   "source": [
    "# Check the data types\n",
    "\n",
    "dailyCalories_merged_df.dtypes"
   ]
  },
  {
   "cell_type": "code",
   "execution_count": 75,
   "id": "425409a1",
   "metadata": {},
   "outputs": [],
   "source": [
    "# Save as CSV file\n",
    "\n",
    "dailyCalories_merged_df.to_csv(\"daily_calories_merged.csv\", index=False)"
   ]
  },
  {
   "cell_type": "code",
   "execution_count": 27,
   "id": "bd83f798",
   "metadata": {},
   "outputs": [
    {
     "data": {
      "text/html": [
       "<div>\n",
       "<style scoped>\n",
       "    .dataframe tbody tr th:only-of-type {\n",
       "        vertical-align: middle;\n",
       "    }\n",
       "\n",
       "    .dataframe tbody tr th {\n",
       "        vertical-align: top;\n",
       "    }\n",
       "\n",
       "    .dataframe thead th {\n",
       "        text-align: right;\n",
       "    }\n",
       "</style>\n",
       "<table border=\"1\" class=\"dataframe\">\n",
       "  <thead>\n",
       "    <tr style=\"text-align: right;\">\n",
       "      <th></th>\n",
       "      <th>Id</th>\n",
       "      <th>ActivityDay</th>\n",
       "      <th>SedentaryMinutes</th>\n",
       "      <th>LightlyActiveMinutes</th>\n",
       "      <th>FairlyActiveMinutes</th>\n",
       "      <th>VeryActiveMinutes</th>\n",
       "      <th>SedentaryActiveDistance</th>\n",
       "      <th>LightActiveDistance</th>\n",
       "      <th>ModeratelyActiveDistance</th>\n",
       "      <th>VeryActiveDistance</th>\n",
       "    </tr>\n",
       "  </thead>\n",
       "  <tbody>\n",
       "    <tr>\n",
       "      <th>0</th>\n",
       "      <td>1503960366</td>\n",
       "      <td>4/12/2016</td>\n",
       "      <td>728</td>\n",
       "      <td>328</td>\n",
       "      <td>13</td>\n",
       "      <td>25</td>\n",
       "      <td>0.00</td>\n",
       "      <td>6.06</td>\n",
       "      <td>0.55</td>\n",
       "      <td>1.88</td>\n",
       "    </tr>\n",
       "    <tr>\n",
       "      <th>1</th>\n",
       "      <td>1503960366</td>\n",
       "      <td>4/13/2016</td>\n",
       "      <td>776</td>\n",
       "      <td>217</td>\n",
       "      <td>19</td>\n",
       "      <td>21</td>\n",
       "      <td>0.00</td>\n",
       "      <td>4.71</td>\n",
       "      <td>0.69</td>\n",
       "      <td>1.57</td>\n",
       "    </tr>\n",
       "    <tr>\n",
       "      <th>2</th>\n",
       "      <td>1503960366</td>\n",
       "      <td>4/14/2016</td>\n",
       "      <td>1218</td>\n",
       "      <td>181</td>\n",
       "      <td>11</td>\n",
       "      <td>30</td>\n",
       "      <td>0.00</td>\n",
       "      <td>3.91</td>\n",
       "      <td>0.40</td>\n",
       "      <td>2.44</td>\n",
       "    </tr>\n",
       "    <tr>\n",
       "      <th>3</th>\n",
       "      <td>1503960366</td>\n",
       "      <td>4/15/2016</td>\n",
       "      <td>726</td>\n",
       "      <td>209</td>\n",
       "      <td>34</td>\n",
       "      <td>29</td>\n",
       "      <td>0.00</td>\n",
       "      <td>2.83</td>\n",
       "      <td>1.26</td>\n",
       "      <td>2.14</td>\n",
       "    </tr>\n",
       "    <tr>\n",
       "      <th>4</th>\n",
       "      <td>1503960366</td>\n",
       "      <td>4/16/2016</td>\n",
       "      <td>773</td>\n",
       "      <td>221</td>\n",
       "      <td>10</td>\n",
       "      <td>36</td>\n",
       "      <td>0.00</td>\n",
       "      <td>5.04</td>\n",
       "      <td>0.41</td>\n",
       "      <td>2.71</td>\n",
       "    </tr>\n",
       "    <tr>\n",
       "      <th>...</th>\n",
       "      <td>...</td>\n",
       "      <td>...</td>\n",
       "      <td>...</td>\n",
       "      <td>...</td>\n",
       "      <td>...</td>\n",
       "      <td>...</td>\n",
       "      <td>...</td>\n",
       "      <td>...</td>\n",
       "      <td>...</td>\n",
       "      <td>...</td>\n",
       "    </tr>\n",
       "    <tr>\n",
       "      <th>935</th>\n",
       "      <td>8877689391</td>\n",
       "      <td>5/8/2016</td>\n",
       "      <td>1174</td>\n",
       "      <td>245</td>\n",
       "      <td>4</td>\n",
       "      <td>17</td>\n",
       "      <td>0.00</td>\n",
       "      <td>6.80</td>\n",
       "      <td>0.20</td>\n",
       "      <td>1.08</td>\n",
       "    </tr>\n",
       "    <tr>\n",
       "      <th>936</th>\n",
       "      <td>8877689391</td>\n",
       "      <td>5/9/2016</td>\n",
       "      <td>1131</td>\n",
       "      <td>217</td>\n",
       "      <td>19</td>\n",
       "      <td>73</td>\n",
       "      <td>0.05</td>\n",
       "      <td>6.24</td>\n",
       "      <td>0.80</td>\n",
       "      <td>11.10</td>\n",
       "    </tr>\n",
       "    <tr>\n",
       "      <th>937</th>\n",
       "      <td>8877689391</td>\n",
       "      <td>5/10/2016</td>\n",
       "      <td>1187</td>\n",
       "      <td>224</td>\n",
       "      <td>11</td>\n",
       "      <td>18</td>\n",
       "      <td>0.00</td>\n",
       "      <td>6.28</td>\n",
       "      <td>0.46</td>\n",
       "      <td>1.35</td>\n",
       "    </tr>\n",
       "    <tr>\n",
       "      <th>938</th>\n",
       "      <td>8877689391</td>\n",
       "      <td>5/11/2016</td>\n",
       "      <td>1127</td>\n",
       "      <td>213</td>\n",
       "      <td>12</td>\n",
       "      <td>88</td>\n",
       "      <td>0.00</td>\n",
       "      <td>5.89</td>\n",
       "      <td>0.41</td>\n",
       "      <td>13.22</td>\n",
       "    </tr>\n",
       "    <tr>\n",
       "      <th>939</th>\n",
       "      <td>8877689391</td>\n",
       "      <td>5/12/2016</td>\n",
       "      <td>770</td>\n",
       "      <td>137</td>\n",
       "      <td>1</td>\n",
       "      <td>23</td>\n",
       "      <td>0.00</td>\n",
       "      <td>4.25</td>\n",
       "      <td>0.04</td>\n",
       "      <td>1.82</td>\n",
       "    </tr>\n",
       "  </tbody>\n",
       "</table>\n",
       "<p>940 rows × 10 columns</p>\n",
       "</div>"
      ],
      "text/plain": [
       "             Id ActivityDay  SedentaryMinutes  LightlyActiveMinutes  \\\n",
       "0    1503960366   4/12/2016               728                   328   \n",
       "1    1503960366   4/13/2016               776                   217   \n",
       "2    1503960366   4/14/2016              1218                   181   \n",
       "3    1503960366   4/15/2016               726                   209   \n",
       "4    1503960366   4/16/2016               773                   221   \n",
       "..          ...         ...               ...                   ...   \n",
       "935  8877689391    5/8/2016              1174                   245   \n",
       "936  8877689391    5/9/2016              1131                   217   \n",
       "937  8877689391   5/10/2016              1187                   224   \n",
       "938  8877689391   5/11/2016              1127                   213   \n",
       "939  8877689391   5/12/2016               770                   137   \n",
       "\n",
       "     FairlyActiveMinutes  VeryActiveMinutes  SedentaryActiveDistance  \\\n",
       "0                     13                 25                     0.00   \n",
       "1                     19                 21                     0.00   \n",
       "2                     11                 30                     0.00   \n",
       "3                     34                 29                     0.00   \n",
       "4                     10                 36                     0.00   \n",
       "..                   ...                ...                      ...   \n",
       "935                    4                 17                     0.00   \n",
       "936                   19                 73                     0.05   \n",
       "937                   11                 18                     0.00   \n",
       "938                   12                 88                     0.00   \n",
       "939                    1                 23                     0.00   \n",
       "\n",
       "     LightActiveDistance  ModeratelyActiveDistance  VeryActiveDistance  \n",
       "0                   6.06                      0.55                1.88  \n",
       "1                   4.71                      0.69                1.57  \n",
       "2                   3.91                      0.40                2.44  \n",
       "3                   2.83                      1.26                2.14  \n",
       "4                   5.04                      0.41                2.71  \n",
       "..                   ...                       ...                 ...  \n",
       "935                 6.80                      0.20                1.08  \n",
       "936                 6.24                      0.80               11.10  \n",
       "937                 6.28                      0.46                1.35  \n",
       "938                 5.89                      0.41               13.22  \n",
       "939                 4.25                      0.04                1.82  \n",
       "\n",
       "[940 rows x 10 columns]"
      ]
     },
     "execution_count": 27,
     "metadata": {},
     "output_type": "execute_result"
    }
   ],
   "source": [
    "# Display the 'dailyIntensities_merged' DataFrame\n",
    "\n",
    "dailyIntensities_merged_df"
   ]
  },
  {
   "cell_type": "code",
   "execution_count": 28,
   "id": "7004ae35",
   "metadata": {},
   "outputs": [
    {
     "data": {
      "text/plain": [
       "Id                          0\n",
       "ActivityDay                 0\n",
       "SedentaryMinutes            0\n",
       "LightlyActiveMinutes        0\n",
       "FairlyActiveMinutes         0\n",
       "VeryActiveMinutes           0\n",
       "SedentaryActiveDistance     0\n",
       "LightActiveDistance         0\n",
       "ModeratelyActiveDistance    0\n",
       "VeryActiveDistance          0\n",
       "dtype: int64"
      ]
     },
     "execution_count": 28,
     "metadata": {},
     "output_type": "execute_result"
    }
   ],
   "source": [
    "# Count the number of missing values in each column\n",
    "\n",
    "dailyIntensities_merged_df.isnull().sum()"
   ]
  },
  {
   "cell_type": "code",
   "execution_count": 29,
   "id": "98634c90",
   "metadata": {},
   "outputs": [
    {
     "name": "stdout",
     "output_type": "stream",
     "text": [
      "There are no duplicates in the DataFrame.\n"
     ]
    }
   ],
   "source": [
    "# Find duplicate values\n",
    "duplicate_values = dailyIntensities_merged_df[dailyIntensities_merged_df.duplicated()]\n",
    "\n",
    "# Check if there are any duplicates\n",
    "if duplicate_values.empty:\n",
    "    print(\"There are no duplicates in the DataFrame.\")\n",
    "else:\n",
    "    print(\"There are duplicates in the DataFrame\")"
   ]
  },
  {
   "cell_type": "code",
   "execution_count": 30,
   "id": "b2d14eb0",
   "metadata": {},
   "outputs": [
    {
     "data": {
      "text/plain": [
       "Id                            int64\n",
       "ActivityDay                  object\n",
       "SedentaryMinutes              int64\n",
       "LightlyActiveMinutes          int64\n",
       "FairlyActiveMinutes           int64\n",
       "VeryActiveMinutes             int64\n",
       "SedentaryActiveDistance     float64\n",
       "LightActiveDistance         float64\n",
       "ModeratelyActiveDistance    float64\n",
       "VeryActiveDistance          float64\n",
       "dtype: object"
      ]
     },
     "execution_count": 30,
     "metadata": {},
     "output_type": "execute_result"
    }
   ],
   "source": [
    "# Display data types of each column in the DataFrame\n",
    "\n",
    "dailyIntensities_merged_df.dtypes"
   ]
  },
  {
   "cell_type": "code",
   "execution_count": 31,
   "id": "eb1660cd",
   "metadata": {},
   "outputs": [],
   "source": [
    "# Convert the 'ActivityDay' column to datetime format\n",
    "\n",
    "dailyIntensities_merged_df[\"ActivityDay\"] = pd.to_datetime(dailyIntensities_merged_df[\"ActivityDay\"], errors = 'coerce')"
   ]
  },
  {
   "cell_type": "code",
   "execution_count": 32,
   "id": "5bf9c5f1",
   "metadata": {},
   "outputs": [
    {
     "data": {
      "text/plain": [
       "Id                                   int64\n",
       "ActivityDay                 datetime64[ns]\n",
       "SedentaryMinutes                     int64\n",
       "LightlyActiveMinutes                 int64\n",
       "FairlyActiveMinutes                  int64\n",
       "VeryActiveMinutes                    int64\n",
       "SedentaryActiveDistance            float64\n",
       "LightActiveDistance                float64\n",
       "ModeratelyActiveDistance           float64\n",
       "VeryActiveDistance                 float64\n",
       "dtype: object"
      ]
     },
     "execution_count": 32,
     "metadata": {},
     "output_type": "execute_result"
    }
   ],
   "source": [
    "# Check the data types\n",
    "\n",
    "dailyIntensities_merged_df.dtypes"
   ]
  },
  {
   "cell_type": "code",
   "execution_count": 76,
   "id": "e5c373ca",
   "metadata": {},
   "outputs": [],
   "source": [
    "# Save as CSV file\n",
    "\n",
    "dailyIntensities_merged_df.to_csv(\"daily_intensities_merged.csv\", index=False)"
   ]
  },
  {
   "cell_type": "code",
   "execution_count": 4,
   "id": "5d2853e0",
   "metadata": {},
   "outputs": [
    {
     "data": {
      "text/html": [
       "<div>\n",
       "<style scoped>\n",
       "    .dataframe tbody tr th:only-of-type {\n",
       "        vertical-align: middle;\n",
       "    }\n",
       "\n",
       "    .dataframe tbody tr th {\n",
       "        vertical-align: top;\n",
       "    }\n",
       "\n",
       "    .dataframe thead th {\n",
       "        text-align: right;\n",
       "    }\n",
       "</style>\n",
       "<table border=\"1\" class=\"dataframe\">\n",
       "  <thead>\n",
       "    <tr style=\"text-align: right;\">\n",
       "      <th></th>\n",
       "      <th>Id</th>\n",
       "      <th>Time</th>\n",
       "      <th>Value</th>\n",
       "    </tr>\n",
       "  </thead>\n",
       "  <tbody>\n",
       "    <tr>\n",
       "      <th>0</th>\n",
       "      <td>2022484408</td>\n",
       "      <td>4/12/2016 7:21:00 AM</td>\n",
       "      <td>97</td>\n",
       "    </tr>\n",
       "    <tr>\n",
       "      <th>1</th>\n",
       "      <td>2022484408</td>\n",
       "      <td>4/12/2016 7:21:05 AM</td>\n",
       "      <td>102</td>\n",
       "    </tr>\n",
       "    <tr>\n",
       "      <th>2</th>\n",
       "      <td>2022484408</td>\n",
       "      <td>4/12/2016 7:21:10 AM</td>\n",
       "      <td>105</td>\n",
       "    </tr>\n",
       "    <tr>\n",
       "      <th>3</th>\n",
       "      <td>2022484408</td>\n",
       "      <td>4/12/2016 7:21:20 AM</td>\n",
       "      <td>103</td>\n",
       "    </tr>\n",
       "    <tr>\n",
       "      <th>4</th>\n",
       "      <td>2022484408</td>\n",
       "      <td>4/12/2016 7:21:25 AM</td>\n",
       "      <td>101</td>\n",
       "    </tr>\n",
       "    <tr>\n",
       "      <th>...</th>\n",
       "      <td>...</td>\n",
       "      <td>...</td>\n",
       "      <td>...</td>\n",
       "    </tr>\n",
       "    <tr>\n",
       "      <th>2483653</th>\n",
       "      <td>8877689391</td>\n",
       "      <td>5/12/2016 2:43:53 PM</td>\n",
       "      <td>57</td>\n",
       "    </tr>\n",
       "    <tr>\n",
       "      <th>2483654</th>\n",
       "      <td>8877689391</td>\n",
       "      <td>5/12/2016 2:43:58 PM</td>\n",
       "      <td>56</td>\n",
       "    </tr>\n",
       "    <tr>\n",
       "      <th>2483655</th>\n",
       "      <td>8877689391</td>\n",
       "      <td>5/12/2016 2:44:03 PM</td>\n",
       "      <td>55</td>\n",
       "    </tr>\n",
       "    <tr>\n",
       "      <th>2483656</th>\n",
       "      <td>8877689391</td>\n",
       "      <td>5/12/2016 2:44:18 PM</td>\n",
       "      <td>55</td>\n",
       "    </tr>\n",
       "    <tr>\n",
       "      <th>2483657</th>\n",
       "      <td>8877689391</td>\n",
       "      <td>5/12/2016 2:44:28 PM</td>\n",
       "      <td>56</td>\n",
       "    </tr>\n",
       "  </tbody>\n",
       "</table>\n",
       "<p>2483658 rows × 3 columns</p>\n",
       "</div>"
      ],
      "text/plain": [
       "                 Id                  Time  Value\n",
       "0        2022484408  4/12/2016 7:21:00 AM     97\n",
       "1        2022484408  4/12/2016 7:21:05 AM    102\n",
       "2        2022484408  4/12/2016 7:21:10 AM    105\n",
       "3        2022484408  4/12/2016 7:21:20 AM    103\n",
       "4        2022484408  4/12/2016 7:21:25 AM    101\n",
       "...             ...                   ...    ...\n",
       "2483653  8877689391  5/12/2016 2:43:53 PM     57\n",
       "2483654  8877689391  5/12/2016 2:43:58 PM     56\n",
       "2483655  8877689391  5/12/2016 2:44:03 PM     55\n",
       "2483656  8877689391  5/12/2016 2:44:18 PM     55\n",
       "2483657  8877689391  5/12/2016 2:44:28 PM     56\n",
       "\n",
       "[2483658 rows x 3 columns]"
      ]
     },
     "execution_count": 4,
     "metadata": {},
     "output_type": "execute_result"
    }
   ],
   "source": [
    "# Display the 'dailyActivity_merged' DataFrame\n",
    "\n",
    "heartrate_seconds_merged_df"
   ]
  },
  {
   "cell_type": "code",
   "execution_count": 5,
   "id": "5276b0db",
   "metadata": {},
   "outputs": [
    {
     "data": {
      "text/plain": [
       "Id       0\n",
       "Time     0\n",
       "Value    0\n",
       "dtype: int64"
      ]
     },
     "execution_count": 5,
     "metadata": {},
     "output_type": "execute_result"
    }
   ],
   "source": [
    "# Count the number of missing values in each column\n",
    "\n",
    "heartrate_seconds_merged_df.isnull().sum()"
   ]
  },
  {
   "cell_type": "code",
   "execution_count": 6,
   "id": "cf4fc04a",
   "metadata": {},
   "outputs": [
    {
     "name": "stdout",
     "output_type": "stream",
     "text": [
      "There are no duplicates in the DataFrame.\n"
     ]
    }
   ],
   "source": [
    "# Find duplicate values\n",
    "duplicate_values =heartrate_seconds_merged_df[heartrate_seconds_merged_df.duplicated()]\n",
    "\n",
    "# Check if there are any duplicates\n",
    "if duplicate_values.empty:\n",
    "    print(\"There are no duplicates in the DataFrame.\")\n",
    "else:\n",
    "    print(\"There are duplicates in the DataFrame\")"
   ]
  },
  {
   "cell_type": "code",
   "execution_count": 7,
   "id": "f6018e7c",
   "metadata": {},
   "outputs": [
    {
     "data": {
      "text/plain": [
       "Id        int64\n",
       "Time     object\n",
       "Value     int64\n",
       "dtype: object"
      ]
     },
     "execution_count": 7,
     "metadata": {},
     "output_type": "execute_result"
    }
   ],
   "source": [
    "# Display data types of each column in the DataFrame\n",
    "\n",
    "heartrate_seconds_merged_df.dtypes"
   ]
  },
  {
   "cell_type": "code",
   "execution_count": 20,
   "id": "47254b09",
   "metadata": {},
   "outputs": [
    {
     "name": "stdout",
     "output_type": "stream",
     "text": [
      "Id                int64\n",
      "Date     datetime64[ns]\n",
      "Value             int64\n",
      "dtype: object\n"
     ]
    }
   ],
   "source": [
    "# Convert the 'Time' column to datetime format\n",
    "heartrate_seconds_merged_df[\"Time\"] = pd.to_datetime(heartrate_seconds_merged_df[\"Time\"], errors='coerce')\n",
    "\n",
    "# # # Normalize the datetime to keep only the date part\n",
    "heartrate_seconds_merged_df[\"Time\"] = heartrate_seconds_merged_df[\"Time\"].dt.normalize()\n",
    "\n",
    "# Rename the 'Time' column to 'Date'\n",
    "heartrate_seconds_merged_df.rename(columns={'Time':'Date'}, inplace=True)\n",
    "\n",
    "# # Print the data types\n",
    "print(heartrate_seconds_merged_df.dtypes)"
   ]
  },
  {
   "cell_type": "code",
   "execution_count": 21,
   "id": "99fd8b91",
   "metadata": {},
   "outputs": [
    {
     "data": {
      "text/html": [
       "<div>\n",
       "<style scoped>\n",
       "    .dataframe tbody tr th:only-of-type {\n",
       "        vertical-align: middle;\n",
       "    }\n",
       "\n",
       "    .dataframe tbody tr th {\n",
       "        vertical-align: top;\n",
       "    }\n",
       "\n",
       "    .dataframe thead th {\n",
       "        text-align: right;\n",
       "    }\n",
       "</style>\n",
       "<table border=\"1\" class=\"dataframe\">\n",
       "  <thead>\n",
       "    <tr style=\"text-align: right;\">\n",
       "      <th></th>\n",
       "      <th>Id</th>\n",
       "      <th>Date</th>\n",
       "      <th>Value</th>\n",
       "    </tr>\n",
       "  </thead>\n",
       "  <tbody>\n",
       "    <tr>\n",
       "      <th>0</th>\n",
       "      <td>2022484408</td>\n",
       "      <td>2016-04-12</td>\n",
       "      <td>97</td>\n",
       "    </tr>\n",
       "    <tr>\n",
       "      <th>1</th>\n",
       "      <td>2022484408</td>\n",
       "      <td>2016-04-12</td>\n",
       "      <td>102</td>\n",
       "    </tr>\n",
       "    <tr>\n",
       "      <th>2</th>\n",
       "      <td>2022484408</td>\n",
       "      <td>2016-04-12</td>\n",
       "      <td>105</td>\n",
       "    </tr>\n",
       "    <tr>\n",
       "      <th>3</th>\n",
       "      <td>2022484408</td>\n",
       "      <td>2016-04-12</td>\n",
       "      <td>103</td>\n",
       "    </tr>\n",
       "    <tr>\n",
       "      <th>4</th>\n",
       "      <td>2022484408</td>\n",
       "      <td>2016-04-12</td>\n",
       "      <td>101</td>\n",
       "    </tr>\n",
       "    <tr>\n",
       "      <th>...</th>\n",
       "      <td>...</td>\n",
       "      <td>...</td>\n",
       "      <td>...</td>\n",
       "    </tr>\n",
       "    <tr>\n",
       "      <th>2483653</th>\n",
       "      <td>8877689391</td>\n",
       "      <td>2016-05-12</td>\n",
       "      <td>57</td>\n",
       "    </tr>\n",
       "    <tr>\n",
       "      <th>2483654</th>\n",
       "      <td>8877689391</td>\n",
       "      <td>2016-05-12</td>\n",
       "      <td>56</td>\n",
       "    </tr>\n",
       "    <tr>\n",
       "      <th>2483655</th>\n",
       "      <td>8877689391</td>\n",
       "      <td>2016-05-12</td>\n",
       "      <td>55</td>\n",
       "    </tr>\n",
       "    <tr>\n",
       "      <th>2483656</th>\n",
       "      <td>8877689391</td>\n",
       "      <td>2016-05-12</td>\n",
       "      <td>55</td>\n",
       "    </tr>\n",
       "    <tr>\n",
       "      <th>2483657</th>\n",
       "      <td>8877689391</td>\n",
       "      <td>2016-05-12</td>\n",
       "      <td>56</td>\n",
       "    </tr>\n",
       "  </tbody>\n",
       "</table>\n",
       "<p>2483658 rows × 3 columns</p>\n",
       "</div>"
      ],
      "text/plain": [
       "                 Id       Date  Value\n",
       "0        2022484408 2016-04-12     97\n",
       "1        2022484408 2016-04-12    102\n",
       "2        2022484408 2016-04-12    105\n",
       "3        2022484408 2016-04-12    103\n",
       "4        2022484408 2016-04-12    101\n",
       "...             ...        ...    ...\n",
       "2483653  8877689391 2016-05-12     57\n",
       "2483654  8877689391 2016-05-12     56\n",
       "2483655  8877689391 2016-05-12     55\n",
       "2483656  8877689391 2016-05-12     55\n",
       "2483657  8877689391 2016-05-12     56\n",
       "\n",
       "[2483658 rows x 3 columns]"
      ]
     },
     "execution_count": 21,
     "metadata": {},
     "output_type": "execute_result"
    }
   ],
   "source": [
    "heartrate_seconds_merged_df"
   ]
  },
  {
   "cell_type": "code",
   "execution_count": 22,
   "id": "bb0633a3",
   "metadata": {},
   "outputs": [],
   "source": [
    "# Save as CSV file\n",
    "\n",
    "heartrate_seconds_merged_df.to_csv(\"heartrate_seconds_merged.csv\", index=False)"
   ]
  },
  {
   "cell_type": "code",
   "execution_count": 61,
   "id": "b4f61a8a",
   "metadata": {},
   "outputs": [
    {
     "data": {
      "text/html": [
       "<div>\n",
       "<style scoped>\n",
       "    .dataframe tbody tr th:only-of-type {\n",
       "        vertical-align: middle;\n",
       "    }\n",
       "\n",
       "    .dataframe tbody tr th {\n",
       "        vertical-align: top;\n",
       "    }\n",
       "\n",
       "    .dataframe thead th {\n",
       "        text-align: right;\n",
       "    }\n",
       "</style>\n",
       "<table border=\"1\" class=\"dataframe\">\n",
       "  <thead>\n",
       "    <tr style=\"text-align: right;\">\n",
       "      <th></th>\n",
       "      <th>Id</th>\n",
       "      <th>SleepDay</th>\n",
       "      <th>TotalSleepRecords</th>\n",
       "      <th>TotalMinutesAsleep</th>\n",
       "      <th>TotalTimeInBed</th>\n",
       "    </tr>\n",
       "  </thead>\n",
       "  <tbody>\n",
       "    <tr>\n",
       "      <th>0</th>\n",
       "      <td>1503960366</td>\n",
       "      <td>4/12/2016 12:00:00 AM</td>\n",
       "      <td>1</td>\n",
       "      <td>327</td>\n",
       "      <td>346</td>\n",
       "    </tr>\n",
       "    <tr>\n",
       "      <th>1</th>\n",
       "      <td>1503960366</td>\n",
       "      <td>4/13/2016 12:00:00 AM</td>\n",
       "      <td>2</td>\n",
       "      <td>384</td>\n",
       "      <td>407</td>\n",
       "    </tr>\n",
       "    <tr>\n",
       "      <th>2</th>\n",
       "      <td>1503960366</td>\n",
       "      <td>4/15/2016 12:00:00 AM</td>\n",
       "      <td>1</td>\n",
       "      <td>412</td>\n",
       "      <td>442</td>\n",
       "    </tr>\n",
       "    <tr>\n",
       "      <th>3</th>\n",
       "      <td>1503960366</td>\n",
       "      <td>4/16/2016 12:00:00 AM</td>\n",
       "      <td>2</td>\n",
       "      <td>340</td>\n",
       "      <td>367</td>\n",
       "    </tr>\n",
       "    <tr>\n",
       "      <th>4</th>\n",
       "      <td>1503960366</td>\n",
       "      <td>4/17/2016 12:00:00 AM</td>\n",
       "      <td>1</td>\n",
       "      <td>700</td>\n",
       "      <td>712</td>\n",
       "    </tr>\n",
       "    <tr>\n",
       "      <th>...</th>\n",
       "      <td>...</td>\n",
       "      <td>...</td>\n",
       "      <td>...</td>\n",
       "      <td>...</td>\n",
       "      <td>...</td>\n",
       "    </tr>\n",
       "    <tr>\n",
       "      <th>408</th>\n",
       "      <td>8792009665</td>\n",
       "      <td>4/30/2016 12:00:00 AM</td>\n",
       "      <td>1</td>\n",
       "      <td>343</td>\n",
       "      <td>360</td>\n",
       "    </tr>\n",
       "    <tr>\n",
       "      <th>409</th>\n",
       "      <td>8792009665</td>\n",
       "      <td>5/1/2016 12:00:00 AM</td>\n",
       "      <td>1</td>\n",
       "      <td>503</td>\n",
       "      <td>527</td>\n",
       "    </tr>\n",
       "    <tr>\n",
       "      <th>410</th>\n",
       "      <td>8792009665</td>\n",
       "      <td>5/2/2016 12:00:00 AM</td>\n",
       "      <td>1</td>\n",
       "      <td>415</td>\n",
       "      <td>423</td>\n",
       "    </tr>\n",
       "    <tr>\n",
       "      <th>411</th>\n",
       "      <td>8792009665</td>\n",
       "      <td>5/3/2016 12:00:00 AM</td>\n",
       "      <td>1</td>\n",
       "      <td>516</td>\n",
       "      <td>545</td>\n",
       "    </tr>\n",
       "    <tr>\n",
       "      <th>412</th>\n",
       "      <td>8792009665</td>\n",
       "      <td>5/4/2016 12:00:00 AM</td>\n",
       "      <td>1</td>\n",
       "      <td>439</td>\n",
       "      <td>463</td>\n",
       "    </tr>\n",
       "  </tbody>\n",
       "</table>\n",
       "<p>413 rows × 5 columns</p>\n",
       "</div>"
      ],
      "text/plain": [
       "             Id               SleepDay  TotalSleepRecords  TotalMinutesAsleep  \\\n",
       "0    1503960366  4/12/2016 12:00:00 AM                  1                 327   \n",
       "1    1503960366  4/13/2016 12:00:00 AM                  2                 384   \n",
       "2    1503960366  4/15/2016 12:00:00 AM                  1                 412   \n",
       "3    1503960366  4/16/2016 12:00:00 AM                  2                 340   \n",
       "4    1503960366  4/17/2016 12:00:00 AM                  1                 700   \n",
       "..          ...                    ...                ...                 ...   \n",
       "408  8792009665  4/30/2016 12:00:00 AM                  1                 343   \n",
       "409  8792009665   5/1/2016 12:00:00 AM                  1                 503   \n",
       "410  8792009665   5/2/2016 12:00:00 AM                  1                 415   \n",
       "411  8792009665   5/3/2016 12:00:00 AM                  1                 516   \n",
       "412  8792009665   5/4/2016 12:00:00 AM                  1                 439   \n",
       "\n",
       "     TotalTimeInBed  \n",
       "0               346  \n",
       "1               407  \n",
       "2               442  \n",
       "3               367  \n",
       "4               712  \n",
       "..              ...  \n",
       "408             360  \n",
       "409             527  \n",
       "410             423  \n",
       "411             545  \n",
       "412             463  \n",
       "\n",
       "[413 rows x 5 columns]"
      ]
     },
     "execution_count": 61,
     "metadata": {},
     "output_type": "execute_result"
    }
   ],
   "source": [
    "# Display the 'sleepDay_merged' DataFrame\n",
    "\n",
    "sleepDay_merged_df"
   ]
  },
  {
   "cell_type": "code",
   "execution_count": 62,
   "id": "e4b9ad2a",
   "metadata": {},
   "outputs": [
    {
     "data": {
      "text/plain": [
       "Id                    0\n",
       "SleepDay              0\n",
       "TotalSleepRecords     0\n",
       "TotalMinutesAsleep    0\n",
       "TotalTimeInBed        0\n",
       "dtype: int64"
      ]
     },
     "execution_count": 62,
     "metadata": {},
     "output_type": "execute_result"
    }
   ],
   "source": [
    "# Count the number of missing values in each column\n",
    "\n",
    "sleepDay_merged_df.isnull().sum()"
   ]
  },
  {
   "cell_type": "code",
   "execution_count": 63,
   "id": "d64c755d",
   "metadata": {},
   "outputs": [
    {
     "name": "stdout",
     "output_type": "stream",
     "text": [
      "Id                             int64\n",
      "SleepDay              datetime64[ns]\n",
      "TotalSleepRecords              int64\n",
      "TotalMinutesAsleep             int64\n",
      "TotalTimeInBed                 int64\n",
      "dtype: object\n"
     ]
    }
   ],
   "source": [
    "# Convert the 'SleepDay' column to datetime format\n",
    "sleepDay_merged_df[\"SleepDay\"] = pd.to_datetime(sleepDay_merged_df[\"SleepDay\"], errors ='coerce')\n",
    "\n",
    "# Normalize the datetime to keep only the date part\n",
    "sleepDay_merged_df[\"SleepDay\"] = sleepDay_merged_df[\"SleepDay\"].dt.normalize()\n",
    "\n",
    "# Print the data types\n",
    "print(sleepDay_merged_df.dtypes)"
   ]
  },
  {
   "cell_type": "code",
   "execution_count": 64,
   "id": "578f476a",
   "metadata": {},
   "outputs": [
    {
     "name": "stdout",
     "output_type": "stream",
     "text": [
      "There are duplicates in the DataFrame\n"
     ]
    }
   ],
   "source": [
    "# Find duplicate values\n",
    "duplicate_values = sleepDay_merged_df[sleepDay_merged_df.duplicated()]\n",
    "\n",
    "# Check if there are any duplicates\n",
    "if duplicate_values.empty:\n",
    "  print(\"There are no duplicates in the DataFrame.\")\n",
    "else:\n",
    "  print(\"There are duplicates in the DataFrame\")"
   ]
  },
  {
   "cell_type": "code",
   "execution_count": 65,
   "id": "221ab11a",
   "metadata": {},
   "outputs": [
    {
     "name": "stdout",
     "output_type": "stream",
     "text": [
      "All duplicates have been removed from the DataFrame.\n"
     ]
    }
   ],
   "source": [
    "# Remove rows where all data is identical\n",
    "sleepDay_merged_df = sleepDay_merged_df.drop_duplicates()\n",
    "\n",
    "# Confirming that duplicates have been removed\n",
    "if sleepDay_merged_df.duplicated().any():\n",
    "  print(\"There are still duplicates in the DataFrame.\")\n",
    "else:\n",
    "  print(\"All duplicates have been removed from the DataFrame.\")\n"
   ]
  },
  {
   "cell_type": "code",
   "execution_count": 78,
   "id": "b601b585",
   "metadata": {},
   "outputs": [],
   "source": [
    "# Save as CSV file\n",
    "\n",
    "sleepDay_merged_df.to_csv(\"sleep_day_merged.csv\", index = False)"
   ]
  },
  {
   "cell_type": "code",
   "execution_count": 41,
   "id": "82240682",
   "metadata": {},
   "outputs": [
    {
     "data": {
      "text/html": [
       "<div>\n",
       "<style scoped>\n",
       "    .dataframe tbody tr th:only-of-type {\n",
       "        vertical-align: middle;\n",
       "    }\n",
       "\n",
       "    .dataframe tbody tr th {\n",
       "        vertical-align: top;\n",
       "    }\n",
       "\n",
       "    .dataframe thead th {\n",
       "        text-align: right;\n",
       "    }\n",
       "</style>\n",
       "<table border=\"1\" class=\"dataframe\">\n",
       "  <thead>\n",
       "    <tr style=\"text-align: right;\">\n",
       "      <th></th>\n",
       "      <th>Id</th>\n",
       "      <th>Date</th>\n",
       "      <th>WeightKg</th>\n",
       "      <th>WeightPounds</th>\n",
       "      <th>Fat</th>\n",
       "      <th>BMI</th>\n",
       "      <th>IsManualReport</th>\n",
       "      <th>LogId</th>\n",
       "    </tr>\n",
       "  </thead>\n",
       "  <tbody>\n",
       "    <tr>\n",
       "      <th>0</th>\n",
       "      <td>1503960366</td>\n",
       "      <td>5/2/2016 11:59:59 PM</td>\n",
       "      <td>52.599998</td>\n",
       "      <td>115.963147</td>\n",
       "      <td>22.0</td>\n",
       "      <td>22.650000</td>\n",
       "      <td>True</td>\n",
       "      <td>1462233599000</td>\n",
       "    </tr>\n",
       "    <tr>\n",
       "      <th>1</th>\n",
       "      <td>1503960366</td>\n",
       "      <td>5/3/2016 11:59:59 PM</td>\n",
       "      <td>52.599998</td>\n",
       "      <td>115.963147</td>\n",
       "      <td>NaN</td>\n",
       "      <td>22.650000</td>\n",
       "      <td>True</td>\n",
       "      <td>1462319999000</td>\n",
       "    </tr>\n",
       "    <tr>\n",
       "      <th>2</th>\n",
       "      <td>1927972279</td>\n",
       "      <td>4/13/2016 1:08:52 AM</td>\n",
       "      <td>133.500000</td>\n",
       "      <td>294.317120</td>\n",
       "      <td>NaN</td>\n",
       "      <td>47.540001</td>\n",
       "      <td>False</td>\n",
       "      <td>1460509732000</td>\n",
       "    </tr>\n",
       "    <tr>\n",
       "      <th>3</th>\n",
       "      <td>2873212765</td>\n",
       "      <td>4/21/2016 11:59:59 PM</td>\n",
       "      <td>56.700001</td>\n",
       "      <td>125.002104</td>\n",
       "      <td>NaN</td>\n",
       "      <td>21.450001</td>\n",
       "      <td>True</td>\n",
       "      <td>1461283199000</td>\n",
       "    </tr>\n",
       "    <tr>\n",
       "      <th>4</th>\n",
       "      <td>2873212765</td>\n",
       "      <td>5/12/2016 11:59:59 PM</td>\n",
       "      <td>57.299999</td>\n",
       "      <td>126.324875</td>\n",
       "      <td>NaN</td>\n",
       "      <td>21.690001</td>\n",
       "      <td>True</td>\n",
       "      <td>1463097599000</td>\n",
       "    </tr>\n",
       "    <tr>\n",
       "      <th>...</th>\n",
       "      <td>...</td>\n",
       "      <td>...</td>\n",
       "      <td>...</td>\n",
       "      <td>...</td>\n",
       "      <td>...</td>\n",
       "      <td>...</td>\n",
       "      <td>...</td>\n",
       "      <td>...</td>\n",
       "    </tr>\n",
       "    <tr>\n",
       "      <th>62</th>\n",
       "      <td>8877689391</td>\n",
       "      <td>5/6/2016 6:43:35 AM</td>\n",
       "      <td>85.000000</td>\n",
       "      <td>187.392923</td>\n",
       "      <td>NaN</td>\n",
       "      <td>25.440001</td>\n",
       "      <td>False</td>\n",
       "      <td>1462517015000</td>\n",
       "    </tr>\n",
       "    <tr>\n",
       "      <th>63</th>\n",
       "      <td>8877689391</td>\n",
       "      <td>5/8/2016 7:35:53 AM</td>\n",
       "      <td>85.400002</td>\n",
       "      <td>188.274775</td>\n",
       "      <td>NaN</td>\n",
       "      <td>25.559999</td>\n",
       "      <td>False</td>\n",
       "      <td>1462692953000</td>\n",
       "    </tr>\n",
       "    <tr>\n",
       "      <th>64</th>\n",
       "      <td>8877689391</td>\n",
       "      <td>5/9/2016 6:39:44 AM</td>\n",
       "      <td>85.500000</td>\n",
       "      <td>188.495234</td>\n",
       "      <td>NaN</td>\n",
       "      <td>25.610001</td>\n",
       "      <td>False</td>\n",
       "      <td>1462775984000</td>\n",
       "    </tr>\n",
       "    <tr>\n",
       "      <th>65</th>\n",
       "      <td>8877689391</td>\n",
       "      <td>5/11/2016 6:51:47 AM</td>\n",
       "      <td>85.400002</td>\n",
       "      <td>188.274775</td>\n",
       "      <td>NaN</td>\n",
       "      <td>25.559999</td>\n",
       "      <td>False</td>\n",
       "      <td>1462949507000</td>\n",
       "    </tr>\n",
       "    <tr>\n",
       "      <th>66</th>\n",
       "      <td>8877689391</td>\n",
       "      <td>5/12/2016 6:42:53 AM</td>\n",
       "      <td>84.000000</td>\n",
       "      <td>185.188300</td>\n",
       "      <td>NaN</td>\n",
       "      <td>25.139999</td>\n",
       "      <td>False</td>\n",
       "      <td>1463035373000</td>\n",
       "    </tr>\n",
       "  </tbody>\n",
       "</table>\n",
       "<p>67 rows × 8 columns</p>\n",
       "</div>"
      ],
      "text/plain": [
       "            Id                   Date    WeightKg  WeightPounds   Fat  \\\n",
       "0   1503960366   5/2/2016 11:59:59 PM   52.599998    115.963147  22.0   \n",
       "1   1503960366   5/3/2016 11:59:59 PM   52.599998    115.963147   NaN   \n",
       "2   1927972279   4/13/2016 1:08:52 AM  133.500000    294.317120   NaN   \n",
       "3   2873212765  4/21/2016 11:59:59 PM   56.700001    125.002104   NaN   \n",
       "4   2873212765  5/12/2016 11:59:59 PM   57.299999    126.324875   NaN   \n",
       "..         ...                    ...         ...           ...   ...   \n",
       "62  8877689391    5/6/2016 6:43:35 AM   85.000000    187.392923   NaN   \n",
       "63  8877689391    5/8/2016 7:35:53 AM   85.400002    188.274775   NaN   \n",
       "64  8877689391    5/9/2016 6:39:44 AM   85.500000    188.495234   NaN   \n",
       "65  8877689391   5/11/2016 6:51:47 AM   85.400002    188.274775   NaN   \n",
       "66  8877689391   5/12/2016 6:42:53 AM   84.000000    185.188300   NaN   \n",
       "\n",
       "          BMI  IsManualReport          LogId  \n",
       "0   22.650000            True  1462233599000  \n",
       "1   22.650000            True  1462319999000  \n",
       "2   47.540001           False  1460509732000  \n",
       "3   21.450001            True  1461283199000  \n",
       "4   21.690001            True  1463097599000  \n",
       "..        ...             ...            ...  \n",
       "62  25.440001           False  1462517015000  \n",
       "63  25.559999           False  1462692953000  \n",
       "64  25.610001           False  1462775984000  \n",
       "65  25.559999           False  1462949507000  \n",
       "66  25.139999           False  1463035373000  \n",
       "\n",
       "[67 rows x 8 columns]"
      ]
     },
     "execution_count": 41,
     "metadata": {},
     "output_type": "execute_result"
    }
   ],
   "source": [
    "# Display the 'dailyActivity_merged' DataFrame\n",
    "\n",
    "weightLogInfo_merged_df"
   ]
  },
  {
   "cell_type": "code",
   "execution_count": 42,
   "id": "fd155fdf",
   "metadata": {},
   "outputs": [
    {
     "data": {
      "text/plain": [
       "Id                  int64\n",
       "Date               object\n",
       "WeightKg          float64\n",
       "WeightPounds      float64\n",
       "Fat               float64\n",
       "BMI               float64\n",
       "IsManualReport       bool\n",
       "LogId               int64\n",
       "dtype: object"
      ]
     },
     "execution_count": 42,
     "metadata": {},
     "output_type": "execute_result"
    }
   ],
   "source": [
    "# Display data types of each column in the DataFrame\n",
    "\n",
    "weightLogInfo_merged_df.dtypes"
   ]
  },
  {
   "cell_type": "code",
   "execution_count": 43,
   "id": "2d3d85b3",
   "metadata": {},
   "outputs": [],
   "source": [
    "# Convert the 'Date' column to datetime format\n",
    "weightLogInfo_merged_df[\"Date\"] = pd.to_datetime(weightLogInfo_merged_df[\"Date\"], errors='coerce')\n",
    "\n",
    "# Normalize the datetime to keep only the date part\n",
    "weightLogInfo_merged_df[\"Date\"] = weightLogInfo_merged_df[\"Date\"].dt.normalize()\n",
    "\n",
    "# Convert the 'Fat' column to float type\n",
    "weightLogInfo_merged_df[\"Fat\"]=weightLogInfo_merged_df[\"Fat\"].astype(\"float64\")"
   ]
  },
  {
   "cell_type": "code",
   "execution_count": 44,
   "id": "116dbec9",
   "metadata": {},
   "outputs": [
    {
     "data": {
      "text/plain": [
       "Id                         int64\n",
       "Date              datetime64[ns]\n",
       "WeightKg                 float64\n",
       "WeightPounds             float64\n",
       "Fat                      float64\n",
       "BMI                      float64\n",
       "IsManualReport              bool\n",
       "LogId                      int64\n",
       "dtype: object"
      ]
     },
     "execution_count": 44,
     "metadata": {},
     "output_type": "execute_result"
    }
   ],
   "source": [
    "# Check the data types\n",
    "\n",
    "weightLogInfo_merged_df.dtypes"
   ]
  },
  {
   "cell_type": "code",
   "execution_count": 45,
   "id": "ce4491a5",
   "metadata": {},
   "outputs": [
    {
     "data": {
      "text/plain": [
       "Id                 0\n",
       "Date               0\n",
       "WeightKg           0\n",
       "WeightPounds       0\n",
       "Fat               65\n",
       "BMI                0\n",
       "IsManualReport     0\n",
       "LogId              0\n",
       "dtype: int64"
      ]
     },
     "execution_count": 45,
     "metadata": {},
     "output_type": "execute_result"
    }
   ],
   "source": [
    "# Count the number of missing values in each column\n",
    "\n",
    "weightLogInfo_merged_df.isnull().sum()"
   ]
  },
  {
   "cell_type": "code",
   "execution_count": 46,
   "id": "5c051e58",
   "metadata": {},
   "outputs": [],
   "source": [
    "# Impute missing values with \"Unknown\" for the 'Fat' column\n",
    "\n",
    "weightLogInfo_merged_df[\"Fat\"].fillna(\"Unknown\", inplace=True)"
   ]
  },
  {
   "cell_type": "code",
   "execution_count": 47,
   "id": "21f4253a",
   "metadata": {},
   "outputs": [
    {
     "data": {
      "text/plain": [
       "Id                0\n",
       "Date              0\n",
       "WeightKg          0\n",
       "WeightPounds      0\n",
       "Fat               0\n",
       "BMI               0\n",
       "IsManualReport    0\n",
       "LogId             0\n",
       "dtype: int64"
      ]
     },
     "execution_count": 47,
     "metadata": {},
     "output_type": "execute_result"
    }
   ],
   "source": [
    "# Check the misiing values\n",
    "\n",
    "weightLogInfo_merged_df.isnull().sum()"
   ]
  },
  {
   "cell_type": "code",
   "execution_count": 48,
   "id": "30749731",
   "metadata": {},
   "outputs": [
    {
     "name": "stdout",
     "output_type": "stream",
     "text": [
      "There are no duplicates in the DataFrame.\n"
     ]
    }
   ],
   "source": [
    "# Find duplicate values\n",
    "duplicate_values = weightLogInfo_merged_df[weightLogInfo_merged_df.duplicated()]\n",
    "\n",
    "# Check if there are any duplicates\n",
    "if duplicate_values.empty:\n",
    "  print(\"There are no duplicates in the DataFrame.\")\n",
    "else:\n",
    "  print(\"There are duplicates in the DataFrame\")"
   ]
  },
  {
   "cell_type": "code",
   "execution_count": 79,
   "id": "93d8f167",
   "metadata": {},
   "outputs": [],
   "source": [
    "# Save as CSV file\n",
    "\n",
    "weightLogInfo_merged_df.to_csv(\"weight_log_info_merged.csv\", index=False)"
   ]
  },
  {
   "cell_type": "code",
   "execution_count": 67,
   "id": "a260fb09",
   "metadata": {},
   "outputs": [
    {
     "data": {
      "text/html": [
       "<div>\n",
       "<style scoped>\n",
       "    .dataframe tbody tr th:only-of-type {\n",
       "        vertical-align: middle;\n",
       "    }\n",
       "\n",
       "    .dataframe tbody tr th {\n",
       "        vertical-align: top;\n",
       "    }\n",
       "\n",
       "    .dataframe thead th {\n",
       "        text-align: right;\n",
       "    }\n",
       "</style>\n",
       "<table border=\"1\" class=\"dataframe\">\n",
       "  <thead>\n",
       "    <tr style=\"text-align: right;\">\n",
       "      <th></th>\n",
       "      <th>Id</th>\n",
       "      <th>ActivityDay</th>\n",
       "      <th>StepTotal</th>\n",
       "    </tr>\n",
       "  </thead>\n",
       "  <tbody>\n",
       "    <tr>\n",
       "      <th>0</th>\n",
       "      <td>1503960366</td>\n",
       "      <td>4/12/2016</td>\n",
       "      <td>13162</td>\n",
       "    </tr>\n",
       "    <tr>\n",
       "      <th>1</th>\n",
       "      <td>1503960366</td>\n",
       "      <td>4/13/2016</td>\n",
       "      <td>10735</td>\n",
       "    </tr>\n",
       "    <tr>\n",
       "      <th>2</th>\n",
       "      <td>1503960366</td>\n",
       "      <td>4/14/2016</td>\n",
       "      <td>10460</td>\n",
       "    </tr>\n",
       "    <tr>\n",
       "      <th>3</th>\n",
       "      <td>1503960366</td>\n",
       "      <td>4/15/2016</td>\n",
       "      <td>9762</td>\n",
       "    </tr>\n",
       "    <tr>\n",
       "      <th>4</th>\n",
       "      <td>1503960366</td>\n",
       "      <td>4/16/2016</td>\n",
       "      <td>12669</td>\n",
       "    </tr>\n",
       "    <tr>\n",
       "      <th>...</th>\n",
       "      <td>...</td>\n",
       "      <td>...</td>\n",
       "      <td>...</td>\n",
       "    </tr>\n",
       "    <tr>\n",
       "      <th>935</th>\n",
       "      <td>8877689391</td>\n",
       "      <td>5/8/2016</td>\n",
       "      <td>10686</td>\n",
       "    </tr>\n",
       "    <tr>\n",
       "      <th>936</th>\n",
       "      <td>8877689391</td>\n",
       "      <td>5/9/2016</td>\n",
       "      <td>20226</td>\n",
       "    </tr>\n",
       "    <tr>\n",
       "      <th>937</th>\n",
       "      <td>8877689391</td>\n",
       "      <td>5/10/2016</td>\n",
       "      <td>10733</td>\n",
       "    </tr>\n",
       "    <tr>\n",
       "      <th>938</th>\n",
       "      <td>8877689391</td>\n",
       "      <td>5/11/2016</td>\n",
       "      <td>21420</td>\n",
       "    </tr>\n",
       "    <tr>\n",
       "      <th>939</th>\n",
       "      <td>8877689391</td>\n",
       "      <td>5/12/2016</td>\n",
       "      <td>8064</td>\n",
       "    </tr>\n",
       "  </tbody>\n",
       "</table>\n",
       "<p>940 rows × 3 columns</p>\n",
       "</div>"
      ],
      "text/plain": [
       "             Id ActivityDay  StepTotal\n",
       "0    1503960366   4/12/2016      13162\n",
       "1    1503960366   4/13/2016      10735\n",
       "2    1503960366   4/14/2016      10460\n",
       "3    1503960366   4/15/2016       9762\n",
       "4    1503960366   4/16/2016      12669\n",
       "..          ...         ...        ...\n",
       "935  8877689391    5/8/2016      10686\n",
       "936  8877689391    5/9/2016      20226\n",
       "937  8877689391   5/10/2016      10733\n",
       "938  8877689391   5/11/2016      21420\n",
       "939  8877689391   5/12/2016       8064\n",
       "\n",
       "[940 rows x 3 columns]"
      ]
     },
     "execution_count": 67,
     "metadata": {},
     "output_type": "execute_result"
    }
   ],
   "source": [
    "# Display the 'dailySteps_merged' DataFrame\n",
    "\n",
    "dailySteps_merged_df"
   ]
  },
  {
   "cell_type": "code",
   "execution_count": 68,
   "id": "3e854588",
   "metadata": {},
   "outputs": [
    {
     "data": {
      "text/plain": [
       "Id             0\n",
       "ActivityDay    0\n",
       "StepTotal      0\n",
       "dtype: int64"
      ]
     },
     "execution_count": 68,
     "metadata": {},
     "output_type": "execute_result"
    }
   ],
   "source": [
    "# Count the number of missing values in each column\n",
    "\n",
    "dailySteps_merged_df.isnull().sum()"
   ]
  },
  {
   "cell_type": "code",
   "execution_count": 69,
   "id": "90f6878d",
   "metadata": {},
   "outputs": [
    {
     "name": "stdout",
     "output_type": "stream",
     "text": [
      "There are duplicates in the DataFrame.\n"
     ]
    }
   ],
   "source": [
    "# Find duplicate values\n",
    "duplicate_values = dailySteps_merged_df[dailySteps_merged_df.duplicated()]\n",
    "\n",
    "# Check if there are any duplicates\n",
    "\n",
    "if duplicate_values.empty:\n",
    "    print(\"There are duplicates in the DataFrame.\")\n",
    "else:\n",
    "    print(\"There are no duplicates in the DataFrame.\")"
   ]
  },
  {
   "cell_type": "code",
   "execution_count": 57,
   "id": "8c6b3c74",
   "metadata": {},
   "outputs": [
    {
     "name": "stdout",
     "output_type": "stream",
     "text": [
      "All duplicates have been removed from the DataFrame.\n"
     ]
    }
   ],
   "source": [
    "# Remove rows where all data is identical\n",
    "dailySteps_merged_df = dailySteps_merged_df.drop_duplicates()\n",
    "\n",
    "# Confirming that duplicates have been removed\n",
    "if dailySteps_merged_df.duplicated().any():\n",
    "  print(\"There are still duplicates in the DataFrame.\")\n",
    "else:\n",
    "  print(\"All duplicates have been removed from the DataFrame.\")"
   ]
  },
  {
   "cell_type": "code",
   "execution_count": 70,
   "id": "c5485ea8",
   "metadata": {},
   "outputs": [
    {
     "data": {
      "text/plain": [
       "Id              int64\n",
       "ActivityDay    object\n",
       "StepTotal       int64\n",
       "dtype: object"
      ]
     },
     "execution_count": 70,
     "metadata": {},
     "output_type": "execute_result"
    }
   ],
   "source": [
    "# Display data types of each column in the DataFrame\n",
    "\n",
    "dailySteps_merged_df.dtypes"
   ]
  },
  {
   "cell_type": "code",
   "execution_count": 71,
   "id": "9914e192",
   "metadata": {},
   "outputs": [
    {
     "name": "stdout",
     "output_type": "stream",
     "text": [
      "Id                      int64\n",
      "ActivityDay    datetime64[ns]\n",
      "StepTotal               int64\n",
      "dtype: object\n"
     ]
    }
   ],
   "source": [
    "# Convert the 'ActivityDay' column to datetime format\n",
    "\n",
    "dailySteps_merged_df['ActivityDay'] = pd.to_datetime(dailySteps_merged_df['ActivityDay'], errors = 'coerce')\n",
    "\n",
    "# Print the data types\n",
    "\n",
    "print(dailySteps_merged_df.dtypes)"
   ]
  },
  {
   "cell_type": "code",
   "execution_count": 80,
   "id": "0df632c9",
   "metadata": {},
   "outputs": [],
   "source": [
    "# Save as CSV file\n",
    "\n",
    "dailySteps_merged_df.to_csv(\"daily_steps_merged.csv\", index=False)"
   ]
  },
  {
   "cell_type": "code",
   "execution_count": null,
   "id": "d72232da",
   "metadata": {},
   "outputs": [],
   "source": []
  }
 ],
 "metadata": {
  "kernelspec": {
   "display_name": "Python 3 (ipykernel)",
   "language": "python",
   "name": "python3"
  },
  "language_info": {
   "codemirror_mode": {
    "name": "ipython",
    "version": 3
   },
   "file_extension": ".py",
   "mimetype": "text/x-python",
   "name": "python",
   "nbconvert_exporter": "python",
   "pygments_lexer": "ipython3",
   "version": "3.10.11"
  }
 },
 "nbformat": 4,
 "nbformat_minor": 5
}
